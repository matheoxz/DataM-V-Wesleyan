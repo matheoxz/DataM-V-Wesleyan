{
 "cells": [
  {
   "cell_type": "markdown",
   "metadata": {},
   "source": [
    "### Assessment 1\n",
    "\n",
    "# GapMinder Democracy Rate and Suicide\n",
    "\n",
    "After reading the GapMinder code book, i began really interested in democracy rate and its impacts. So, the first question that comes to mind is if the democracy rate is correlated to the suicide rate.\n",
    "\n",
    "A quick search in the Google Scholar returned [a very brief paper](https://journals.sagepub.com/doi/abs/10.2466/pr0.1999.85.2.518) that aims to answer the question if democracy rate is correlated to the homicide and the suicide rate. The data analysed was separated in two: before and after 1965, where the first seems not to be correlated and the second is. The metric used was Pearson’s correlations. <br>\n",
    "\n",
    "Another paper found was [“Democracy, Autocracy, and Direction of Lethal Violence: Homicide and Suicide”](https://journals.sagepub.com/doi/abs/10.1177/1088767918775465), which discovered “that people in a democratic nation are likely to direct violence inward rather than outward, blaming themselves for their failures and frustrations. By contrast, those in ideal autocratic nations are likely to use violence toward others, directing blame outwards for personal failures and frustrations.” <br>\n",
    "\n",
    "So, the second question is if the democracy rate is correlated to gender equality. A quick search returned the paper [\"Democracy and Gender Equality\"](https://link.springer.com/article/10.1007/s12116-009-9043-2) which found that “countries with greater stocks of democracy and longer experience of women’s suffrage have a higher proportion of the population that is female, a greater ratio of female life expectancy to male life expectancy, lower fertility rates, and higher rates of female labor force participation.” <br>\n",
    "\n",
    "To answer the questions I will use the GapMinder database and codebook, specifically the variables **“polityscore”**, **“suicideper100TH”** and **“femaleemployrate”**. <br>\n",
    "\n",
    "**polityscore:** <br>\n",
    "\n",
    "2009 Democracy score (Polity). Overall polity score from the Polity IV dataset, calculated by subtracting an autocracy score from a democracy score. The summary measure of a country's democratic and free nature. -10 is the lowest value, 10 the highest. Source: Polity IV Project.\n",
    "\n",
    "**suicideper100TH:**<br>\n",
    "2005 Suicide, age adjusted, per 100 000 Mortality due to self-inflicted injury, per 100 000 standard population, age adjusted. Souce: Combination of time series from WHO Violence and Injury Prevention (VIP) and data from WHO Global Burden of Disease 2002 and 2004.\n",
    "\n",
    "**femaleemployrate:** <br>\n",
    "2007 female employees age 15+ (% of population) Percentage of female population, age above 15, that has been employed during the given year. Source: International Labour Organization."
   ]
  },
  {
   "cell_type": "code",
   "execution_count": 1,
   "metadata": {},
   "outputs": [],
   "source": [
    "import pandas as pd\n",
    "import numpy as np\n",
    "import matplotlib.pyplot as plt"
   ]
  },
  {
   "cell_type": "markdown",
   "metadata": {},
   "source": [
    "### Assessment 2"
   ]
  },
  {
   "cell_type": "code",
   "execution_count": 2,
   "metadata": {},
   "outputs": [
    {
     "data": {
      "text/html": [
       "<div>\n",
       "<style scoped>\n",
       "    .dataframe tbody tr th:only-of-type {\n",
       "        vertical-align: middle;\n",
       "    }\n",
       "\n",
       "    .dataframe tbody tr th {\n",
       "        vertical-align: top;\n",
       "    }\n",
       "\n",
       "    .dataframe thead th {\n",
       "        text-align: right;\n",
       "    }\n",
       "</style>\n",
       "<table border=\"1\" class=\"dataframe\">\n",
       "  <thead>\n",
       "    <tr style=\"text-align: right;\">\n",
       "      <th></th>\n",
       "      <th>country</th>\n",
       "      <th>incomeperperson</th>\n",
       "      <th>alcconsumption</th>\n",
       "      <th>armedforcesrate</th>\n",
       "      <th>breastcancerper100th</th>\n",
       "      <th>co2emissions</th>\n",
       "      <th>femaleemployrate</th>\n",
       "      <th>hivrate</th>\n",
       "      <th>internetuserate</th>\n",
       "      <th>lifeexpectancy</th>\n",
       "      <th>oilperperson</th>\n",
       "      <th>polityscore</th>\n",
       "      <th>relectricperperson</th>\n",
       "      <th>suicideper100th</th>\n",
       "      <th>employrate</th>\n",
       "      <th>urbanrate</th>\n",
       "    </tr>\n",
       "  </thead>\n",
       "  <tbody>\n",
       "    <tr>\n",
       "      <th>0</th>\n",
       "      <td>Afghanistan</td>\n",
       "      <td>NaN</td>\n",
       "      <td>.03</td>\n",
       "      <td>.5696534</td>\n",
       "      <td>26.8</td>\n",
       "      <td>75944000</td>\n",
       "      <td>25.600000</td>\n",
       "      <td>NaN</td>\n",
       "      <td>3.65412162280064</td>\n",
       "      <td>48.673</td>\n",
       "      <td>NaN</td>\n",
       "      <td>0.0</td>\n",
       "      <td>NaN</td>\n",
       "      <td>6.684385</td>\n",
       "      <td>55.7000007629394</td>\n",
       "      <td>24.04</td>\n",
       "    </tr>\n",
       "    <tr>\n",
       "      <th>1</th>\n",
       "      <td>Albania</td>\n",
       "      <td>1914.99655094922</td>\n",
       "      <td>7.29</td>\n",
       "      <td>1.0247361</td>\n",
       "      <td>57.4</td>\n",
       "      <td>223747333.333333</td>\n",
       "      <td>42.099998</td>\n",
       "      <td>NaN</td>\n",
       "      <td>44.9899469578783</td>\n",
       "      <td>76.918</td>\n",
       "      <td>NaN</td>\n",
       "      <td>9.0</td>\n",
       "      <td>636.341383366604</td>\n",
       "      <td>7.699330</td>\n",
       "      <td>51.4000015258789</td>\n",
       "      <td>46.72</td>\n",
       "    </tr>\n",
       "    <tr>\n",
       "      <th>2</th>\n",
       "      <td>Algeria</td>\n",
       "      <td>2231.99333515006</td>\n",
       "      <td>.69</td>\n",
       "      <td>2.306817</td>\n",
       "      <td>23.5</td>\n",
       "      <td>2932108666.66667</td>\n",
       "      <td>31.700001</td>\n",
       "      <td>.1</td>\n",
       "      <td>12.5000733055148</td>\n",
       "      <td>73.131</td>\n",
       "      <td>.42009452521537</td>\n",
       "      <td>2.0</td>\n",
       "      <td>590.509814347428</td>\n",
       "      <td>4.848770</td>\n",
       "      <td>50.5</td>\n",
       "      <td>65.22</td>\n",
       "    </tr>\n",
       "    <tr>\n",
       "      <th>3</th>\n",
       "      <td>Andorra</td>\n",
       "      <td>21943.3398976022</td>\n",
       "      <td>10.17</td>\n",
       "      <td>NaN</td>\n",
       "      <td>NaN</td>\n",
       "      <td>NaN</td>\n",
       "      <td>NaN</td>\n",
       "      <td>NaN</td>\n",
       "      <td>81</td>\n",
       "      <td>NaN</td>\n",
       "      <td>NaN</td>\n",
       "      <td>NaN</td>\n",
       "      <td>NaN</td>\n",
       "      <td>5.362179</td>\n",
       "      <td>NaN</td>\n",
       "      <td>88.92</td>\n",
       "    </tr>\n",
       "    <tr>\n",
       "      <th>4</th>\n",
       "      <td>Angola</td>\n",
       "      <td>1381.00426770244</td>\n",
       "      <td>5.57</td>\n",
       "      <td>1.4613288</td>\n",
       "      <td>23.1</td>\n",
       "      <td>248358000</td>\n",
       "      <td>69.400002</td>\n",
       "      <td>2</td>\n",
       "      <td>9.99995388324075</td>\n",
       "      <td>51.093</td>\n",
       "      <td>NaN</td>\n",
       "      <td>-2.0</td>\n",
       "      <td>172.999227388199</td>\n",
       "      <td>14.554677</td>\n",
       "      <td>75.6999969482422</td>\n",
       "      <td>56.7</td>\n",
       "    </tr>\n",
       "  </tbody>\n",
       "</table>\n",
       "</div>"
      ],
      "text/plain": [
       "       country   incomeperperson alcconsumption armedforcesrate  \\\n",
       "0  Afghanistan               NaN            .03        .5696534   \n",
       "1      Albania  1914.99655094922           7.29       1.0247361   \n",
       "2      Algeria  2231.99333515006            .69        2.306817   \n",
       "3      Andorra  21943.3398976022          10.17             NaN   \n",
       "4       Angola  1381.00426770244           5.57       1.4613288   \n",
       "\n",
       "  breastcancerper100th      co2emissions  femaleemployrate hivrate  \\\n",
       "0                 26.8          75944000         25.600000     NaN   \n",
       "1                 57.4  223747333.333333         42.099998     NaN   \n",
       "2                 23.5  2932108666.66667         31.700001      .1   \n",
       "3                  NaN               NaN               NaN     NaN   \n",
       "4                 23.1         248358000         69.400002       2   \n",
       "\n",
       "    internetuserate lifeexpectancy     oilperperson  polityscore  \\\n",
       "0  3.65412162280064         48.673              NaN          0.0   \n",
       "1  44.9899469578783         76.918              NaN          9.0   \n",
       "2  12.5000733055148         73.131  .42009452521537          2.0   \n",
       "3                81            NaN              NaN          NaN   \n",
       "4  9.99995388324075         51.093              NaN         -2.0   \n",
       "\n",
       "  relectricperperson  suicideper100th        employrate urbanrate  \n",
       "0                NaN         6.684385  55.7000007629394     24.04  \n",
       "1   636.341383366604         7.699330  51.4000015258789     46.72  \n",
       "2   590.509814347428         4.848770              50.5     65.22  \n",
       "3                NaN         5.362179               NaN     88.92  \n",
       "4   172.999227388199        14.554677  75.6999969482422      56.7  "
      ]
     },
     "execution_count": 2,
     "metadata": {},
     "output_type": "execute_result"
    }
   ],
   "source": [
    "# importing the database\n",
    "df = pd.read_csv('gapminder.csv')\n",
    "#parsing the blank spaces to nan values\n",
    "df = df.replace(r'^\\s*$', np.nan, regex=True)\n",
    "#parsing the number strings to numeric values\n",
    "df['polityscore'] = pd.to_numeric(df['polityscore'])\n",
    "df['suicideper100th'] = pd.to_numeric(df['suicideper100th'])\n",
    "df['femaleemployrate'] = pd.to_numeric(df['femaleemployrate'])\n",
    "#showing the head of the table\n",
    "df.head()"
   ]
  },
  {
   "cell_type": "code",
   "execution_count": 3,
   "metadata": {},
   "outputs": [
    {
     "data": {
      "text/html": [
       "<div>\n",
       "<style scoped>\n",
       "    .dataframe tbody tr th:only-of-type {\n",
       "        vertical-align: middle;\n",
       "    }\n",
       "\n",
       "    .dataframe tbody tr th {\n",
       "        vertical-align: top;\n",
       "    }\n",
       "\n",
       "    .dataframe thead th {\n",
       "        text-align: right;\n",
       "    }\n",
       "</style>\n",
       "<table border=\"1\" class=\"dataframe\">\n",
       "  <thead>\n",
       "    <tr style=\"text-align: right;\">\n",
       "      <th></th>\n",
       "      <th>polityscore</th>\n",
       "      <th>suicideper100th</th>\n",
       "      <th>femaleemployrate</th>\n",
       "    </tr>\n",
       "    <tr>\n",
       "      <th>country</th>\n",
       "      <th></th>\n",
       "      <th></th>\n",
       "      <th></th>\n",
       "    </tr>\n",
       "  </thead>\n",
       "  <tbody>\n",
       "    <tr>\n",
       "      <th>Afghanistan</th>\n",
       "      <td>0.0</td>\n",
       "      <td>6.684385</td>\n",
       "      <td>25.600000</td>\n",
       "    </tr>\n",
       "    <tr>\n",
       "      <th>Albania</th>\n",
       "      <td>9.0</td>\n",
       "      <td>7.699330</td>\n",
       "      <td>42.099998</td>\n",
       "    </tr>\n",
       "    <tr>\n",
       "      <th>Algeria</th>\n",
       "      <td>2.0</td>\n",
       "      <td>4.848770</td>\n",
       "      <td>31.700001</td>\n",
       "    </tr>\n",
       "    <tr>\n",
       "      <th>Andorra</th>\n",
       "      <td>NaN</td>\n",
       "      <td>5.362179</td>\n",
       "      <td>NaN</td>\n",
       "    </tr>\n",
       "    <tr>\n",
       "      <th>Angola</th>\n",
       "      <td>-2.0</td>\n",
       "      <td>14.554677</td>\n",
       "      <td>69.400002</td>\n",
       "    </tr>\n",
       "  </tbody>\n",
       "</table>\n",
       "</div>"
      ],
      "text/plain": [
       "             polityscore  suicideper100th  femaleemployrate\n",
       "country                                                    \n",
       "Afghanistan          0.0         6.684385         25.600000\n",
       "Albania              9.0         7.699330         42.099998\n",
       "Algeria              2.0         4.848770         31.700001\n",
       "Andorra              NaN         5.362179               NaN\n",
       "Angola              -2.0        14.554677         69.400002"
      ]
     },
     "execution_count": 3,
     "metadata": {},
     "output_type": "execute_result"
    }
   ],
   "source": [
    "#selecting the interested variables\n",
    "df1 = df[['country', 'polityscore', 'suicideper100th', 'femaleemployrate']].set_index('country')\n",
    "df1.head()"
   ]
  },
  {
   "cell_type": "code",
   "execution_count": 4,
   "metadata": {},
   "outputs": [
    {
     "data": {
      "text/html": [
       "<style  type=\"text/css\" >\n",
       "</style><table id=\"T_a152390a_ec54_11ea_9440_e752b4142b72\" ><caption>Polity Score or Democracy Rate</caption><thead>    <tr>        <th class=\"blank level0\" ></th>        <th class=\"col_heading level0 col0\" >Counts</th>        <th class=\"col_heading level0 col1\" >%</th>    </tr></thead><tbody>\n",
       "                <tr>\n",
       "                        <th id=\"T_a152390a_ec54_11ea_9440_e752b4142b72level0_row0\" class=\"row_heading level0 row0\" >-10.0</th>\n",
       "                        <td id=\"T_a152390a_ec54_11ea_9440_e752b4142b72row0_col0\" class=\"data row0 col0\" >2</td>\n",
       "                        <td id=\"T_a152390a_ec54_11ea_9440_e752b4142b72row0_col1\" class=\"data row0 col1\" >0.94%</td>\n",
       "            </tr>\n",
       "            <tr>\n",
       "                        <th id=\"T_a152390a_ec54_11ea_9440_e752b4142b72level0_row1\" class=\"row_heading level0 row1\" >-9.0</th>\n",
       "                        <td id=\"T_a152390a_ec54_11ea_9440_e752b4142b72row1_col0\" class=\"data row1 col0\" >4</td>\n",
       "                        <td id=\"T_a152390a_ec54_11ea_9440_e752b4142b72row1_col1\" class=\"data row1 col1\" >1.88%</td>\n",
       "            </tr>\n",
       "            <tr>\n",
       "                        <th id=\"T_a152390a_ec54_11ea_9440_e752b4142b72level0_row2\" class=\"row_heading level0 row2\" >-8.0</th>\n",
       "                        <td id=\"T_a152390a_ec54_11ea_9440_e752b4142b72row2_col0\" class=\"data row2 col0\" >2</td>\n",
       "                        <td id=\"T_a152390a_ec54_11ea_9440_e752b4142b72row2_col1\" class=\"data row2 col1\" >0.94%</td>\n",
       "            </tr>\n",
       "            <tr>\n",
       "                        <th id=\"T_a152390a_ec54_11ea_9440_e752b4142b72level0_row3\" class=\"row_heading level0 row3\" >-7.0</th>\n",
       "                        <td id=\"T_a152390a_ec54_11ea_9440_e752b4142b72row3_col0\" class=\"data row3 col0\" >12</td>\n",
       "                        <td id=\"T_a152390a_ec54_11ea_9440_e752b4142b72row3_col1\" class=\"data row3 col1\" >5.63%</td>\n",
       "            </tr>\n",
       "            <tr>\n",
       "                        <th id=\"T_a152390a_ec54_11ea_9440_e752b4142b72level0_row4\" class=\"row_heading level0 row4\" >-6.0</th>\n",
       "                        <td id=\"T_a152390a_ec54_11ea_9440_e752b4142b72row4_col0\" class=\"data row4 col0\" >3</td>\n",
       "                        <td id=\"T_a152390a_ec54_11ea_9440_e752b4142b72row4_col1\" class=\"data row4 col1\" >1.41%</td>\n",
       "            </tr>\n",
       "            <tr>\n",
       "                        <th id=\"T_a152390a_ec54_11ea_9440_e752b4142b72level0_row5\" class=\"row_heading level0 row5\" >-5.0</th>\n",
       "                        <td id=\"T_a152390a_ec54_11ea_9440_e752b4142b72row5_col0\" class=\"data row5 col0\" >2</td>\n",
       "                        <td id=\"T_a152390a_ec54_11ea_9440_e752b4142b72row5_col1\" class=\"data row5 col1\" >0.94%</td>\n",
       "            </tr>\n",
       "            <tr>\n",
       "                        <th id=\"T_a152390a_ec54_11ea_9440_e752b4142b72level0_row6\" class=\"row_heading level0 row6\" >-4.0</th>\n",
       "                        <td id=\"T_a152390a_ec54_11ea_9440_e752b4142b72row6_col0\" class=\"data row6 col0\" >6</td>\n",
       "                        <td id=\"T_a152390a_ec54_11ea_9440_e752b4142b72row6_col1\" class=\"data row6 col1\" >2.82%</td>\n",
       "            </tr>\n",
       "            <tr>\n",
       "                        <th id=\"T_a152390a_ec54_11ea_9440_e752b4142b72level0_row7\" class=\"row_heading level0 row7\" >-3.0</th>\n",
       "                        <td id=\"T_a152390a_ec54_11ea_9440_e752b4142b72row7_col0\" class=\"data row7 col0\" >6</td>\n",
       "                        <td id=\"T_a152390a_ec54_11ea_9440_e752b4142b72row7_col1\" class=\"data row7 col1\" >2.82%</td>\n",
       "            </tr>\n",
       "            <tr>\n",
       "                        <th id=\"T_a152390a_ec54_11ea_9440_e752b4142b72level0_row8\" class=\"row_heading level0 row8\" >-2.0</th>\n",
       "                        <td id=\"T_a152390a_ec54_11ea_9440_e752b4142b72row8_col0\" class=\"data row8 col0\" >5</td>\n",
       "                        <td id=\"T_a152390a_ec54_11ea_9440_e752b4142b72row8_col1\" class=\"data row8 col1\" >2.35%</td>\n",
       "            </tr>\n",
       "            <tr>\n",
       "                        <th id=\"T_a152390a_ec54_11ea_9440_e752b4142b72level0_row9\" class=\"row_heading level0 row9\" >-1.0</th>\n",
       "                        <td id=\"T_a152390a_ec54_11ea_9440_e752b4142b72row9_col0\" class=\"data row9 col0\" >4</td>\n",
       "                        <td id=\"T_a152390a_ec54_11ea_9440_e752b4142b72row9_col1\" class=\"data row9 col1\" >1.88%</td>\n",
       "            </tr>\n",
       "            <tr>\n",
       "                        <th id=\"T_a152390a_ec54_11ea_9440_e752b4142b72level0_row10\" class=\"row_heading level0 row10\" >0.0</th>\n",
       "                        <td id=\"T_a152390a_ec54_11ea_9440_e752b4142b72row10_col0\" class=\"data row10 col0\" >6</td>\n",
       "                        <td id=\"T_a152390a_ec54_11ea_9440_e752b4142b72row10_col1\" class=\"data row10 col1\" >2.82%</td>\n",
       "            </tr>\n",
       "            <tr>\n",
       "                        <th id=\"T_a152390a_ec54_11ea_9440_e752b4142b72level0_row11\" class=\"row_heading level0 row11\" >1.0</th>\n",
       "                        <td id=\"T_a152390a_ec54_11ea_9440_e752b4142b72row11_col0\" class=\"data row11 col0\" >3</td>\n",
       "                        <td id=\"T_a152390a_ec54_11ea_9440_e752b4142b72row11_col1\" class=\"data row11 col1\" >1.41%</td>\n",
       "            </tr>\n",
       "            <tr>\n",
       "                        <th id=\"T_a152390a_ec54_11ea_9440_e752b4142b72level0_row12\" class=\"row_heading level0 row12\" >2.0</th>\n",
       "                        <td id=\"T_a152390a_ec54_11ea_9440_e752b4142b72row12_col0\" class=\"data row12 col0\" >3</td>\n",
       "                        <td id=\"T_a152390a_ec54_11ea_9440_e752b4142b72row12_col1\" class=\"data row12 col1\" >1.41%</td>\n",
       "            </tr>\n",
       "            <tr>\n",
       "                        <th id=\"T_a152390a_ec54_11ea_9440_e752b4142b72level0_row13\" class=\"row_heading level0 row13\" >3.0</th>\n",
       "                        <td id=\"T_a152390a_ec54_11ea_9440_e752b4142b72row13_col0\" class=\"data row13 col0\" >2</td>\n",
       "                        <td id=\"T_a152390a_ec54_11ea_9440_e752b4142b72row13_col1\" class=\"data row13 col1\" >0.94%</td>\n",
       "            </tr>\n",
       "            <tr>\n",
       "                        <th id=\"T_a152390a_ec54_11ea_9440_e752b4142b72level0_row14\" class=\"row_heading level0 row14\" >4.0</th>\n",
       "                        <td id=\"T_a152390a_ec54_11ea_9440_e752b4142b72row14_col0\" class=\"data row14 col0\" >4</td>\n",
       "                        <td id=\"T_a152390a_ec54_11ea_9440_e752b4142b72row14_col1\" class=\"data row14 col1\" >1.88%</td>\n",
       "            </tr>\n",
       "            <tr>\n",
       "                        <th id=\"T_a152390a_ec54_11ea_9440_e752b4142b72level0_row15\" class=\"row_heading level0 row15\" >5.0</th>\n",
       "                        <td id=\"T_a152390a_ec54_11ea_9440_e752b4142b72row15_col0\" class=\"data row15 col0\" >7</td>\n",
       "                        <td id=\"T_a152390a_ec54_11ea_9440_e752b4142b72row15_col1\" class=\"data row15 col1\" >3.29%</td>\n",
       "            </tr>\n",
       "            <tr>\n",
       "                        <th id=\"T_a152390a_ec54_11ea_9440_e752b4142b72level0_row16\" class=\"row_heading level0 row16\" >6.0</th>\n",
       "                        <td id=\"T_a152390a_ec54_11ea_9440_e752b4142b72row16_col0\" class=\"data row16 col0\" >10</td>\n",
       "                        <td id=\"T_a152390a_ec54_11ea_9440_e752b4142b72row16_col1\" class=\"data row16 col1\" >4.69%</td>\n",
       "            </tr>\n",
       "            <tr>\n",
       "                        <th id=\"T_a152390a_ec54_11ea_9440_e752b4142b72level0_row17\" class=\"row_heading level0 row17\" >7.0</th>\n",
       "                        <td id=\"T_a152390a_ec54_11ea_9440_e752b4142b72row17_col0\" class=\"data row17 col0\" >13</td>\n",
       "                        <td id=\"T_a152390a_ec54_11ea_9440_e752b4142b72row17_col1\" class=\"data row17 col1\" >6.10%</td>\n",
       "            </tr>\n",
       "            <tr>\n",
       "                        <th id=\"T_a152390a_ec54_11ea_9440_e752b4142b72level0_row18\" class=\"row_heading level0 row18\" >8.0</th>\n",
       "                        <td id=\"T_a152390a_ec54_11ea_9440_e752b4142b72row18_col0\" class=\"data row18 col0\" >19</td>\n",
       "                        <td id=\"T_a152390a_ec54_11ea_9440_e752b4142b72row18_col1\" class=\"data row18 col1\" >8.92%</td>\n",
       "            </tr>\n",
       "            <tr>\n",
       "                        <th id=\"T_a152390a_ec54_11ea_9440_e752b4142b72level0_row19\" class=\"row_heading level0 row19\" >9.0</th>\n",
       "                        <td id=\"T_a152390a_ec54_11ea_9440_e752b4142b72row19_col0\" class=\"data row19 col0\" >15</td>\n",
       "                        <td id=\"T_a152390a_ec54_11ea_9440_e752b4142b72row19_col1\" class=\"data row19 col1\" >7.04%</td>\n",
       "            </tr>\n",
       "            <tr>\n",
       "                        <th id=\"T_a152390a_ec54_11ea_9440_e752b4142b72level0_row20\" class=\"row_heading level0 row20\" >10.0</th>\n",
       "                        <td id=\"T_a152390a_ec54_11ea_9440_e752b4142b72row20_col0\" class=\"data row20 col0\" >33</td>\n",
       "                        <td id=\"T_a152390a_ec54_11ea_9440_e752b4142b72row20_col1\" class=\"data row20 col1\" >15.49%</td>\n",
       "            </tr>\n",
       "            <tr>\n",
       "                        <th id=\"T_a152390a_ec54_11ea_9440_e752b4142b72level0_row21\" class=\"row_heading level0 row21\" >nan</th>\n",
       "                        <td id=\"T_a152390a_ec54_11ea_9440_e752b4142b72row21_col0\" class=\"data row21 col0\" >52</td>\n",
       "                        <td id=\"T_a152390a_ec54_11ea_9440_e752b4142b72row21_col1\" class=\"data row21 col1\" >24.41%</td>\n",
       "            </tr>\n",
       "    </tbody></table>"
      ],
      "text/plain": [
       "<pandas.io.formats.style.Styler at 0x7f1d42879640>"
      ]
     },
     "execution_count": 4,
     "metadata": {},
     "output_type": "execute_result"
    }
   ],
   "source": [
    "#counting the polity score\n",
    "polity_count = df1['polityscore'].value_counts(sort = False, dropna = False).sort_index()\n",
    "#getting its percentage\n",
    "polity_percentage = df1['polityscore'].value_counts(sort = False, normalize = True, dropna = False).sort_index()\n",
    "#turning it into a DataFrame\n",
    "polity = pd.DataFrame(np.array([polity_count, polity_percentage]).T, columns = ['Counts', '%'], index = polity_count.index)\n",
    "#styling the rows to show int values and % values\n",
    "polity.style.format({'%':\"{:.2%}\", 'Counts':\"{:.0f}\"})\\\n",
    "            .set_caption(\"Polity Score or Democracy Rate\")"
   ]
  },
  {
   "cell_type": "code",
   "execution_count": 5,
   "metadata": {
    "scrolled": true
   },
   "outputs": [
    {
     "data": {
      "text/html": [
       "<style  type=\"text/css\" >\n",
       "</style><table id=\"T_a152390b_ec54_11ea_9440_e752b4142b72\" ><caption>Suicide per 100 people</caption><thead>    <tr>        <th class=\"blank level0\" ></th>        <th class=\"col_heading level0 col0\" >Counts</th>        <th class=\"col_heading level0 col1\" >%</th>    </tr></thead><tbody>\n",
       "                <tr>\n",
       "                        <th id=\"T_a152390b_ec54_11ea_9440_e752b4142b72level0_row0\" class=\"row_heading level0 row0\" >(0.165, 3.757]</th>\n",
       "                        <td id=\"T_a152390b_ec54_11ea_9440_e752b4142b72row0_col0\" class=\"data row0 col0\" >26</td>\n",
       "                        <td id=\"T_a152390b_ec54_11ea_9440_e752b4142b72row0_col1\" class=\"data row0 col1\" >12.21%</td>\n",
       "            </tr>\n",
       "            <tr>\n",
       "                        <th id=\"T_a152390b_ec54_11ea_9440_e752b4142b72level0_row1\" class=\"row_heading level0 row1\" >(3.757, 7.312]</th>\n",
       "                        <td id=\"T_a152390b_ec54_11ea_9440_e752b4142b72row1_col0\" class=\"data row1 col0\" >53</td>\n",
       "                        <td id=\"T_a152390b_ec54_11ea_9440_e752b4142b72row1_col1\" class=\"data row1 col1\" >24.88%</td>\n",
       "            </tr>\n",
       "            <tr>\n",
       "                        <th id=\"T_a152390b_ec54_11ea_9440_e752b4142b72level0_row2\" class=\"row_heading level0 row2\" >(7.312, 10.867]</th>\n",
       "                        <td id=\"T_a152390b_ec54_11ea_9440_e752b4142b72row2_col0\" class=\"data row2 col0\" >48</td>\n",
       "                        <td id=\"T_a152390b_ec54_11ea_9440_e752b4142b72row2_col1\" class=\"data row2 col1\" >22.54%</td>\n",
       "            </tr>\n",
       "            <tr>\n",
       "                        <th id=\"T_a152390b_ec54_11ea_9440_e752b4142b72level0_row3\" class=\"row_heading level0 row3\" >(10.867, 14.422]</th>\n",
       "                        <td id=\"T_a152390b_ec54_11ea_9440_e752b4142b72row3_col0\" class=\"data row3 col0\" >30</td>\n",
       "                        <td id=\"T_a152390b_ec54_11ea_9440_e752b4142b72row3_col1\" class=\"data row3 col1\" >14.08%</td>\n",
       "            </tr>\n",
       "            <tr>\n",
       "                        <th id=\"T_a152390b_ec54_11ea_9440_e752b4142b72level0_row4\" class=\"row_heading level0 row4\" >(14.422, 17.977]</th>\n",
       "                        <td id=\"T_a152390b_ec54_11ea_9440_e752b4142b72row4_col0\" class=\"data row4 col0\" >16</td>\n",
       "                        <td id=\"T_a152390b_ec54_11ea_9440_e752b4142b72row4_col1\" class=\"data row4 col1\" >7.51%</td>\n",
       "            </tr>\n",
       "            <tr>\n",
       "                        <th id=\"T_a152390b_ec54_11ea_9440_e752b4142b72level0_row5\" class=\"row_heading level0 row5\" >(17.977, 21.532]</th>\n",
       "                        <td id=\"T_a152390b_ec54_11ea_9440_e752b4142b72row5_col0\" class=\"data row5 col0\" >8</td>\n",
       "                        <td id=\"T_a152390b_ec54_11ea_9440_e752b4142b72row5_col1\" class=\"data row5 col1\" >3.76%</td>\n",
       "            </tr>\n",
       "            <tr>\n",
       "                        <th id=\"T_a152390b_ec54_11ea_9440_e752b4142b72level0_row6\" class=\"row_heading level0 row6\" >(21.532, 25.087]</th>\n",
       "                        <td id=\"T_a152390b_ec54_11ea_9440_e752b4142b72row6_col0\" class=\"data row6 col0\" >2</td>\n",
       "                        <td id=\"T_a152390b_ec54_11ea_9440_e752b4142b72row6_col1\" class=\"data row6 col1\" >0.94%</td>\n",
       "            </tr>\n",
       "            <tr>\n",
       "                        <th id=\"T_a152390b_ec54_11ea_9440_e752b4142b72level0_row7\" class=\"row_heading level0 row7\" >(25.087, 28.643]</th>\n",
       "                        <td id=\"T_a152390b_ec54_11ea_9440_e752b4142b72row7_col0\" class=\"data row7 col0\" >5</td>\n",
       "                        <td id=\"T_a152390b_ec54_11ea_9440_e752b4142b72row7_col1\" class=\"data row7 col1\" >2.35%</td>\n",
       "            </tr>\n",
       "            <tr>\n",
       "                        <th id=\"T_a152390b_ec54_11ea_9440_e752b4142b72level0_row8\" class=\"row_heading level0 row8\" >(28.643, 32.198]</th>\n",
       "                        <td id=\"T_a152390b_ec54_11ea_9440_e752b4142b72row8_col0\" class=\"data row8 col0\" >1</td>\n",
       "                        <td id=\"T_a152390b_ec54_11ea_9440_e752b4142b72row8_col1\" class=\"data row8 col1\" >0.47%</td>\n",
       "            </tr>\n",
       "            <tr>\n",
       "                        <th id=\"T_a152390b_ec54_11ea_9440_e752b4142b72level0_row9\" class=\"row_heading level0 row9\" >(32.198, 35.753]</th>\n",
       "                        <td id=\"T_a152390b_ec54_11ea_9440_e752b4142b72row9_col0\" class=\"data row9 col0\" >2</td>\n",
       "                        <td id=\"T_a152390b_ec54_11ea_9440_e752b4142b72row9_col1\" class=\"data row9 col1\" >0.94%</td>\n",
       "            </tr>\n",
       "    </tbody></table>"
      ],
      "text/plain": [
       "<pandas.io.formats.style.Styler at 0x7f1d427915b0>"
      ]
     },
     "execution_count": 5,
     "metadata": {},
     "output_type": "execute_result"
    }
   ],
   "source": [
    "#counting the suicide rate\n",
    "suicide_count = df1['suicideper100th'].value_counts(sort = False, bins = 10, dropna = False).sort_index()\n",
    "#getting its percentage\n",
    "suicide_percentage = df1['suicideper100th'].value_counts(sort = False, normalize = True, bins = 10, dropna = False).sort_index()\n",
    "#turning it into a DataFrame\n",
    "suicide = pd.DataFrame(np.array([suicide_count, suicide_percentage]).T, columns = ['Counts', '%'], index = suicide_count.index)\n",
    "#styling the rows to show int values and % values\n",
    "suicide.style.format({'%':\"{:.2%}\", 'Counts':\"{:.0f}\"})\\\n",
    "            .set_caption(\"Suicide per 100 people\")"
   ]
  },
  {
   "cell_type": "code",
   "execution_count": 6,
   "metadata": {},
   "outputs": [
    {
     "data": {
      "text/html": [
       "<style  type=\"text/css\" >\n",
       "</style><table id=\"T_a152390c_ec54_11ea_9440_e752b4142b72\" ><caption>Female employ rate</caption><thead>    <tr>        <th class=\"blank level0\" ></th>        <th class=\"col_heading level0 col0\" >Counts</th>        <th class=\"col_heading level0 col1\" >%</th>    </tr></thead><tbody>\n",
       "                <tr>\n",
       "                        <th id=\"T_a152390c_ec54_11ea_9440_e752b4142b72level0_row0\" class=\"row_heading level0 row0\" >(11.227, 18.5]</th>\n",
       "                        <td id=\"T_a152390c_ec54_11ea_9440_e752b4142b72row0_col0\" class=\"data row0 col0\" >6</td>\n",
       "                        <td id=\"T_a152390c_ec54_11ea_9440_e752b4142b72row0_col1\" class=\"data row0 col1\" >2.82%</td>\n",
       "            </tr>\n",
       "            <tr>\n",
       "                        <th id=\"T_a152390c_ec54_11ea_9440_e752b4142b72level0_row1\" class=\"row_heading level0 row1\" >(18.5, 25.7]</th>\n",
       "                        <td id=\"T_a152390c_ec54_11ea_9440_e752b4142b72row1_col0\" class=\"data row1 col0\" >9</td>\n",
       "                        <td id=\"T_a152390c_ec54_11ea_9440_e752b4142b72row1_col1\" class=\"data row1 col1\" >4.23%</td>\n",
       "            </tr>\n",
       "            <tr>\n",
       "                        <th id=\"T_a152390c_ec54_11ea_9440_e752b4142b72level0_row2\" class=\"row_heading level0 row2\" >(25.7, 32.9]</th>\n",
       "                        <td id=\"T_a152390c_ec54_11ea_9440_e752b4142b72row2_col0\" class=\"data row2 col0\" >8</td>\n",
       "                        <td id=\"T_a152390c_ec54_11ea_9440_e752b4142b72row2_col1\" class=\"data row2 col1\" >3.76%</td>\n",
       "            </tr>\n",
       "            <tr>\n",
       "                        <th id=\"T_a152390c_ec54_11ea_9440_e752b4142b72level0_row3\" class=\"row_heading level0 row3\" >(32.9, 40.1]</th>\n",
       "                        <td id=\"T_a152390c_ec54_11ea_9440_e752b4142b72row3_col0\" class=\"data row3 col0\" >30</td>\n",
       "                        <td id=\"T_a152390c_ec54_11ea_9440_e752b4142b72row3_col1\" class=\"data row3 col1\" >14.08%</td>\n",
       "            </tr>\n",
       "            <tr>\n",
       "                        <th id=\"T_a152390c_ec54_11ea_9440_e752b4142b72level0_row4\" class=\"row_heading level0 row4\" >(40.1, 47.3]</th>\n",
       "                        <td id=\"T_a152390c_ec54_11ea_9440_e752b4142b72row4_col0\" class=\"data row4 col0\" >35</td>\n",
       "                        <td id=\"T_a152390c_ec54_11ea_9440_e752b4142b72row4_col1\" class=\"data row4 col1\" >16.43%</td>\n",
       "            </tr>\n",
       "            <tr>\n",
       "                        <th id=\"T_a152390c_ec54_11ea_9440_e752b4142b72level0_row5\" class=\"row_heading level0 row5\" >(47.3, 54.5]</th>\n",
       "                        <td id=\"T_a152390c_ec54_11ea_9440_e752b4142b72row5_col0\" class=\"data row5 col0\" >40</td>\n",
       "                        <td id=\"T_a152390c_ec54_11ea_9440_e752b4142b72row5_col1\" class=\"data row5 col1\" >18.78%</td>\n",
       "            </tr>\n",
       "            <tr>\n",
       "                        <th id=\"T_a152390c_ec54_11ea_9440_e752b4142b72level0_row6\" class=\"row_heading level0 row6\" >(54.5, 61.7]</th>\n",
       "                        <td id=\"T_a152390c_ec54_11ea_9440_e752b4142b72row6_col0\" class=\"data row6 col0\" >24</td>\n",
       "                        <td id=\"T_a152390c_ec54_11ea_9440_e752b4142b72row6_col1\" class=\"data row6 col1\" >11.27%</td>\n",
       "            </tr>\n",
       "            <tr>\n",
       "                        <th id=\"T_a152390c_ec54_11ea_9440_e752b4142b72level0_row7\" class=\"row_heading level0 row7\" >(61.7, 68.9]</th>\n",
       "                        <td id=\"T_a152390c_ec54_11ea_9440_e752b4142b72row7_col0\" class=\"data row7 col0\" >12</td>\n",
       "                        <td id=\"T_a152390c_ec54_11ea_9440_e752b4142b72row7_col1\" class=\"data row7 col1\" >5.63%</td>\n",
       "            </tr>\n",
       "            <tr>\n",
       "                        <th id=\"T_a152390c_ec54_11ea_9440_e752b4142b72level0_row8\" class=\"row_heading level0 row8\" >(68.9, 76.1]</th>\n",
       "                        <td id=\"T_a152390c_ec54_11ea_9440_e752b4142b72row8_col0\" class=\"data row8 col0\" >7</td>\n",
       "                        <td id=\"T_a152390c_ec54_11ea_9440_e752b4142b72row8_col1\" class=\"data row8 col1\" >3.29%</td>\n",
       "            </tr>\n",
       "            <tr>\n",
       "                        <th id=\"T_a152390c_ec54_11ea_9440_e752b4142b72level0_row9\" class=\"row_heading level0 row9\" >(76.1, 83.3]</th>\n",
       "                        <td id=\"T_a152390c_ec54_11ea_9440_e752b4142b72row9_col0\" class=\"data row9 col0\" >7</td>\n",
       "                        <td id=\"T_a152390c_ec54_11ea_9440_e752b4142b72row9_col1\" class=\"data row9 col1\" >3.29%</td>\n",
       "            </tr>\n",
       "    </tbody></table>"
      ],
      "text/plain": [
       "<pandas.io.formats.style.Styler at 0x7f1d43256b50>"
      ]
     },
     "execution_count": 6,
     "metadata": {},
     "output_type": "execute_result"
    }
   ],
   "source": [
    "#counting the female employ rate \n",
    "female_count = df1['femaleemployrate'].value_counts(sort = False, bins = 10, dropna = False).sort_index()\n",
    "#getting its percentage\n",
    "female_percentage = df1['femaleemployrate'].value_counts(sort = False, normalize = True, bins = 10, dropna = False).sort_index()\n",
    "#turning it into a DataFrame\n",
    "female = pd.DataFrame(np.array([female_count, female_percentage]).T, columns = ['Counts', '%'], index = female_count.index)\n",
    "#styling the rows to show int values and % values\n",
    "female.style.format({'%':\"{:.2%}\", 'Counts':\"{:.0f}\"})\\\n",
    "            .set_caption(\"Female employ rate\")"
   ]
  },
  {
   "cell_type": "markdown",
   "metadata": {},
   "source": [
    "### Assessment 3"
   ]
  },
  {
   "cell_type": "code",
   "execution_count": 7,
   "metadata": {},
   "outputs": [
    {
     "data": {
      "text/html": [
       "<style  type=\"text/css\" >\n",
       "</style><table id=\"T_a152390d_ec54_11ea_9440_e752b4142b72\" ><caption>Polity Score or Democracy Rate</caption><thead>    <tr>        <th class=\"blank level0\" ></th>        <th class=\"col_heading level0 col0\" >Counts</th>        <th class=\"col_heading level0 col1\" >%</th>    </tr></thead><tbody>\n",
       "                <tr>\n",
       "                        <th id=\"T_a152390d_ec54_11ea_9440_e752b4142b72level0_row0\" class=\"row_heading level0 row0\" >(-10.01, -5.0]</th>\n",
       "                        <td id=\"T_a152390d_ec54_11ea_9440_e752b4142b72row0_col0\" class=\"data row0 col0\" >25</td>\n",
       "                        <td id=\"T_a152390d_ec54_11ea_9440_e752b4142b72row0_col1\" class=\"data row0 col1\" >11.74%</td>\n",
       "            </tr>\n",
       "            <tr>\n",
       "                        <th id=\"T_a152390d_ec54_11ea_9440_e752b4142b72level0_row1\" class=\"row_heading level0 row1\" >(-5.0, 0.0]</th>\n",
       "                        <td id=\"T_a152390d_ec54_11ea_9440_e752b4142b72row1_col0\" class=\"data row1 col0\" >27</td>\n",
       "                        <td id=\"T_a152390d_ec54_11ea_9440_e752b4142b72row1_col1\" class=\"data row1 col1\" >12.68%</td>\n",
       "            </tr>\n",
       "            <tr>\n",
       "                        <th id=\"T_a152390d_ec54_11ea_9440_e752b4142b72level0_row2\" class=\"row_heading level0 row2\" >(0.0, 5.0]</th>\n",
       "                        <td id=\"T_a152390d_ec54_11ea_9440_e752b4142b72row2_col0\" class=\"data row2 col0\" >19</td>\n",
       "                        <td id=\"T_a152390d_ec54_11ea_9440_e752b4142b72row2_col1\" class=\"data row2 col1\" >8.92%</td>\n",
       "            </tr>\n",
       "            <tr>\n",
       "                        <th id=\"T_a152390d_ec54_11ea_9440_e752b4142b72level0_row3\" class=\"row_heading level0 row3\" >(5.0, 10.0]</th>\n",
       "                        <td id=\"T_a152390d_ec54_11ea_9440_e752b4142b72row3_col0\" class=\"data row3 col0\" >90</td>\n",
       "                        <td id=\"T_a152390d_ec54_11ea_9440_e752b4142b72row3_col1\" class=\"data row3 col1\" >42.25%</td>\n",
       "            </tr>\n",
       "            <tr>\n",
       "                        <th id=\"T_a152390d_ec54_11ea_9440_e752b4142b72level0_row4\" class=\"row_heading level0 row4\" >nan</th>\n",
       "                        <td id=\"T_a152390d_ec54_11ea_9440_e752b4142b72row4_col0\" class=\"data row4 col0\" >52</td>\n",
       "                        <td id=\"T_a152390d_ec54_11ea_9440_e752b4142b72row4_col1\" class=\"data row4 col1\" >24.41%</td>\n",
       "            </tr>\n",
       "    </tbody></table>"
      ],
      "text/plain": [
       "<pandas.io.formats.style.Styler at 0x7f1d42879e80>"
      ]
     },
     "execution_count": 7,
     "metadata": {},
     "output_type": "execute_result"
    }
   ],
   "source": [
    "#binning the democracy rate values into groups of 5 points\n",
    "polity_quart = pd.cut(df1.polityscore, [-10.01, -5, 0, 5, 10])\n",
    "#counting the polity score\n",
    "polity_count = polity_quart.value_counts(sort = False, dropna = False).sort_index()\n",
    "#getting its percentage\n",
    "polity_percentage = polity_quart.value_counts(sort = False, normalize = True, dropna = False).sort_index()\n",
    "#turning it into a DataFrame\n",
    "polity = pd.DataFrame(np.array([polity_count, polity_percentage]).T, columns = ['Counts', '%'], index = polity_count.index)\n",
    "#styling the rows to show int values and % values\n",
    "polity.style.format({'%':\"{:.2%}\", 'Counts':\"{:.0f}\"})\\\n",
    "            .set_caption(\"Polity Score or Democracy Rate\")\n"
   ]
  },
  {
   "cell_type": "code",
   "execution_count": 8,
   "metadata": {},
   "outputs": [
    {
     "data": {
      "text/html": [
       "<style  type=\"text/css\" >\n",
       "</style><table id=\"T_a152390e_ec54_11ea_9440_e752b4142b72\" ><caption>Suicide per 100 people</caption><thead>    <tr>        <th class=\"blank level0\" ></th>        <th class=\"col_heading level0 col0\" >Counts</th>        <th class=\"col_heading level0 col1\" >%</th>    </tr></thead><tbody>\n",
       "                <tr>\n",
       "                        <th id=\"T_a152390e_ec54_11ea_9440_e752b4142b72level0_row0\" class=\"row_heading level0 row0\" >(0.2, 4.988]</th>\n",
       "                        <td id=\"T_a152390e_ec54_11ea_9440_e752b4142b72row0_col0\" class=\"data row0 col0\" >48</td>\n",
       "                        <td id=\"T_a152390e_ec54_11ea_9440_e752b4142b72row0_col1\" class=\"data row0 col1\" >22.54%</td>\n",
       "            </tr>\n",
       "            <tr>\n",
       "                        <th id=\"T_a152390e_ec54_11ea_9440_e752b4142b72level0_row1\" class=\"row_heading level0 row1\" >(4.988, 8.263]</th>\n",
       "                        <td id=\"T_a152390e_ec54_11ea_9440_e752b4142b72row1_col0\" class=\"data row1 col0\" >48</td>\n",
       "                        <td id=\"T_a152390e_ec54_11ea_9440_e752b4142b72row1_col1\" class=\"data row1 col1\" >22.54%</td>\n",
       "            </tr>\n",
       "            <tr>\n",
       "                        <th id=\"T_a152390e_ec54_11ea_9440_e752b4142b72level0_row2\" class=\"row_heading level0 row2\" >(8.263, 12.329]</th>\n",
       "                        <td id=\"T_a152390e_ec54_11ea_9440_e752b4142b72row2_col0\" class=\"data row2 col0\" >47</td>\n",
       "                        <td id=\"T_a152390e_ec54_11ea_9440_e752b4142b72row2_col1\" class=\"data row2 col1\" >22.07%</td>\n",
       "            </tr>\n",
       "            <tr>\n",
       "                        <th id=\"T_a152390e_ec54_11ea_9440_e752b4142b72level0_row3\" class=\"row_heading level0 row3\" >(12.329, 35.753]</th>\n",
       "                        <td id=\"T_a152390e_ec54_11ea_9440_e752b4142b72row3_col0\" class=\"data row3 col0\" >48</td>\n",
       "                        <td id=\"T_a152390e_ec54_11ea_9440_e752b4142b72row3_col1\" class=\"data row3 col1\" >22.54%</td>\n",
       "            </tr>\n",
       "            <tr>\n",
       "                        <th id=\"T_a152390e_ec54_11ea_9440_e752b4142b72level0_row4\" class=\"row_heading level0 row4\" >nan</th>\n",
       "                        <td id=\"T_a152390e_ec54_11ea_9440_e752b4142b72row4_col0\" class=\"data row4 col0\" >22</td>\n",
       "                        <td id=\"T_a152390e_ec54_11ea_9440_e752b4142b72row4_col1\" class=\"data row4 col1\" >10.33%</td>\n",
       "            </tr>\n",
       "    </tbody></table>"
      ],
      "text/plain": [
       "<pandas.io.formats.style.Styler at 0x7f1d70786490>"
      ]
     },
     "execution_count": 8,
     "metadata": {},
     "output_type": "execute_result"
    }
   ],
   "source": [
    "#binning the suicide rate values into quartiles\n",
    "suicide_quart = pd.qcut(df1.suicideper100th, 4)\n",
    "#counting the suicide rate\n",
    "suicide_count = suicide_quart.value_counts(sort = False, dropna = False).sort_index()\n",
    "#getting its percentage\n",
    "suicide_percentage = suicide_quart.value_counts(sort = False, normalize = True, dropna = False).sort_index()\n",
    "#turning it into a DataFrame\n",
    "suicide = pd.DataFrame(np.array([suicide_count, suicide_percentage]).T, columns = ['Counts', '%'], index = suicide_count.index)\n",
    "#styling the rows to show int values and % values\n",
    "suicide.style.format({'%':\"{:.2%}\", 'Counts':\"{:.0f}\"})\\\n",
    "            .set_caption(\"Suicide per 100 people\")"
   ]
  },
  {
   "cell_type": "code",
   "execution_count": 9,
   "metadata": {},
   "outputs": [
    {
     "data": {
      "text/html": [
       "<style  type=\"text/css\" >\n",
       "</style><table id=\"T_a152390f_ec54_11ea_9440_e752b4142b72\" ><caption>Female employ rate</caption><thead>    <tr>        <th class=\"blank level0\" ></th>        <th class=\"col_heading level0 col0\" >Counts</th>        <th class=\"col_heading level0 col1\" >%</th>    </tr></thead><tbody>\n",
       "                <tr>\n",
       "                        <th id=\"T_a152390f_ec54_11ea_9440_e752b4142b72level0_row0\" class=\"row_heading level0 row0\" >(11.299000000000001, 38.725]</th>\n",
       "                        <td id=\"T_a152390f_ec54_11ea_9440_e752b4142b72row0_col0\" class=\"data row0 col0\" >45</td>\n",
       "                        <td id=\"T_a152390f_ec54_11ea_9440_e752b4142b72row0_col1\" class=\"data row0 col1\" >21.13%</td>\n",
       "            </tr>\n",
       "            <tr>\n",
       "                        <th id=\"T_a152390f_ec54_11ea_9440_e752b4142b72level0_row1\" class=\"row_heading level0 row1\" >(38.725, 47.55]</th>\n",
       "                        <td id=\"T_a152390f_ec54_11ea_9440_e752b4142b72row1_col0\" class=\"data row1 col0\" >44</td>\n",
       "                        <td id=\"T_a152390f_ec54_11ea_9440_e752b4142b72row1_col1\" class=\"data row1 col1\" >20.66%</td>\n",
       "            </tr>\n",
       "            <tr>\n",
       "                        <th id=\"T_a152390f_ec54_11ea_9440_e752b4142b72level0_row2\" class=\"row_heading level0 row2\" >(47.55, 55.875]</th>\n",
       "                        <td id=\"T_a152390f_ec54_11ea_9440_e752b4142b72row2_col0\" class=\"data row2 col0\" >44</td>\n",
       "                        <td id=\"T_a152390f_ec54_11ea_9440_e752b4142b72row2_col1\" class=\"data row2 col1\" >20.66%</td>\n",
       "            </tr>\n",
       "            <tr>\n",
       "                        <th id=\"T_a152390f_ec54_11ea_9440_e752b4142b72level0_row3\" class=\"row_heading level0 row3\" >(55.875, 83.3]</th>\n",
       "                        <td id=\"T_a152390f_ec54_11ea_9440_e752b4142b72row3_col0\" class=\"data row3 col0\" >45</td>\n",
       "                        <td id=\"T_a152390f_ec54_11ea_9440_e752b4142b72row3_col1\" class=\"data row3 col1\" >21.13%</td>\n",
       "            </tr>\n",
       "            <tr>\n",
       "                        <th id=\"T_a152390f_ec54_11ea_9440_e752b4142b72level0_row4\" class=\"row_heading level0 row4\" >nan</th>\n",
       "                        <td id=\"T_a152390f_ec54_11ea_9440_e752b4142b72row4_col0\" class=\"data row4 col0\" >35</td>\n",
       "                        <td id=\"T_a152390f_ec54_11ea_9440_e752b4142b72row4_col1\" class=\"data row4 col1\" >16.43%</td>\n",
       "            </tr>\n",
       "    </tbody></table>"
      ],
      "text/plain": [
       "<pandas.io.formats.style.Styler at 0x7f1d42531e50>"
      ]
     },
     "execution_count": 9,
     "metadata": {},
     "output_type": "execute_result"
    }
   ],
   "source": [
    "#binning the female employ rate values into quartiles\n",
    "female_quart = pd.qcut(df1.femaleemployrate, 4)\n",
    "#counting the female employ rate \n",
    "female_count = female_quart.value_counts(sort = False, dropna = False).sort_index()\n",
    "#getting its percentage\n",
    "female_percentage = female_quart.value_counts(sort = False, normalize = True, dropna = False).sort_index()\n",
    "#turning it into a DataFrame\n",
    "female = pd.DataFrame(np.array([female_count, female_percentage]).T, columns = ['Counts', '%'], index = female_count.index)\n",
    "#styling the rows to show int values and % values\n",
    "female.style.format({'%':\"{:.2%}\", 'Counts':\"{:.0f}\"})\\\n",
    "            .set_caption(\"Female employ rate\")"
   ]
  },
  {
   "cell_type": "markdown",
   "metadata": {},
   "source": [
    "### Assessment 4\n"
   ]
  },
  {
   "cell_type": "code",
   "execution_count": 10,
   "metadata": {},
   "outputs": [],
   "source": [
    "import seaborn as sbn\n",
    "import matplotlib.pyplot as plt\n"
   ]
  },
  {
   "cell_type": "code",
   "execution_count": 75,
   "metadata": {},
   "outputs": [
    {
     "data": {
      "image/png": "[encoded data removed]",
      "text/plain": [
       "<Figure size 432x288 with 1 Axes>"
      ]
     },
     "metadata": {
      "needs_background": "light"
     },
     "output_type": "display_data"
    }
   ],
   "source": [
    "polityscore_cat = df1['polityscore'].sort_values().fillna('Missing')\n",
    "polityscore_cat = polityscore_cat.astype('category');\n",
    "g = sbn.countplot(polityscore_cat);\n",
    "g.set_xticklabels(g.get_xticklabels(), rotation=-60);\n",
    "plt.title(\"Democracy Score Count\");\n",
    "plt.xlabel(\"Democracy Score\");"
   ]
  },
  {
   "cell_type": "code",
   "execution_count": 73,
   "metadata": {},
   "outputs": [
    {
     "data": {
      "text/plain": [
       "Text(0, 0.5, 'Count')"
      ]
     },
     "execution_count": 73,
     "metadata": {},
     "output_type": "execute_result"
    },
    {
     "data": {
      "image/png": "[encoded data removed]",
      "text/plain": [
       "<Figure size 432x288 with 1 Axes>"
      ]
     },
     "metadata": {
      "needs_background": "light"
     },
     "output_type": "display_data"
    }
   ],
   "source": [
    "sbn.distplot(df1['suicideper100th'].dropna(), kde = False);\n",
    "plt.title(\"Suicide per 100 people\");\n",
    "plt.xlabel(\"Suicide per 100 people\");\n",
    "plt.ylabel(\"Count\")"
   ]
  },
  {
   "cell_type": "code",
   "execution_count": 74,
   "metadata": {},
   "outputs": [
    {
     "data": {
      "text/plain": [
       "Text(0, 0.5, 'Count')"
      ]
     },
     "execution_count": 74,
     "metadata": {},
     "output_type": "execute_result"
    },
    {
     "data": {
      "image/png": "[encoded data removed]",
      "text/plain": [
       "<Figure size 432x288 with 1 Axes>"
      ]
     },
     "metadata": {
      "needs_background": "light"
     },
     "output_type": "display_data"
    }
   ],
   "source": [
    "sbn.distplot(df1['femaleemployrate'].dropna(), kde = False);\n",
    "plt.title(\"Female Employ Rate\");\n",
    "plt.xlabel(\"Female Employ Rate\");\n",
    "plt.ylabel(\"Count\")"
   ]
  },
  {
   "cell_type": "code",
   "execution_count": 87,
   "metadata": {},
   "outputs": [
    {
     "data": {
      "image/png": "[encoded data removed]",
      "text/plain": [
       "<Figure size 360x360 with 1 Axes>"
      ]
     },
     "metadata": {
      "needs_background": "light"
     },
     "output_type": "display_data"
    }
   ],
   "source": [
    "g = sbn.factorplot(x = 'polityscore', y = 'suicideper100th', data = df1, kind = 'bar', ci = None);\n",
    "g.set_xticklabels(rotation=-60);\n",
    "plt.title(\"Democracy Score x Suicide per 100 people\");\n",
    "plt.xlabel(\"Democracy Score\");\n",
    "plt.ylabel(\"Suicide per 100 people\");"
   ]
  },
  {
   "cell_type": "code",
   "execution_count": 84,
   "metadata": {},
   "outputs": [
    {
     "data": {
      "image/png": "[encoded data removed]",
      "text/plain": [
       "<Figure size 360x360 with 1 Axes>"
      ]
     },
     "metadata": {
      "needs_background": "light"
     },
     "output_type": "display_data"
    }
   ],
   "source": [
    "g = sbn.factorplot(x = 'polityscore', y = 'femaleemployrate', data = df1, kind = 'bar', ci = None);\n",
    "g.set_xticklabels(rotation=-60);\n",
    "plt.title(\"Democracy Score x Female Employ Rate\");\n",
    "plt.xlabel(\"Democracy Score\");\n",
    "plt.ylabel(\"Female Employ Rate\");"
   ]
  },
  {
   "cell_type": "code",
   "execution_count": null,
   "metadata": {},
   "outputs": [],
   "source": [
    "df1"
   ]
  }
 ],
 "metadata": {
  "kernelspec": {
   "display_name": "Python 3",
   "language": "python",
   "name": "python3"
  },
  "language_info": {
   "codemirror_mode": {
    "name": "ipython",
    "version": 3
   },
   "file_extension": ".py",
   "mimetype": "text/x-python",
   "name": "python",
   "nbconvert_exporter": "python",
   "pygments_lexer": "ipython3",
   "version": "3.8.2"
  }
 },
 "nbformat": 4,
 "nbformat_minor": 2
}
